{
 "cells": [
  {
   "cell_type": "code",
   "execution_count": null,
   "metadata": {
    "collapsed": false
   },
   "outputs": [],
   "source": [
    "import json\n",
    "import csv"
   ]
  },
  {
   "cell_type": "markdown",
   "metadata": {},
   "source": [
    "Input and output file paths"
   ]
  },
  {
   "cell_type": "code",
   "execution_count": null,
   "metadata": {
    "collapsed": false
   },
   "outputs": [],
   "source": [
    "json_file = \"s06.json\"\n",
    "csv_file_path = \"s06_output.csv\"\n",
    "base_dir = r\"C:\\Users\\Itay\\Downloads\\eretz_lists\"\n",
    "json_full_path = f\"{base_dir}\\{json_file}\"\n",
    "print(json_full_path)"
   ]
  },
  {
   "cell_type": "markdown",
   "metadata": {},
   "source": [
    "Load the JSON data from the file"
   ]
  },
  {
   "cell_type": "code",
   "execution_count": null,
   "metadata": {},
   "outputs": [],
   "source": [
    "with open(json_full_path, 'r', encoding='utf-8') as json_file:\n",
    "    data = json.load(json_file)"
   ]
  },
  {
   "cell_type": "code",
   "execution_count": null,
   "metadata": {},
   "outputs": [],
   "source": [
    "episodes = data['props']['pageProps']['data']['menu'][0]['vods']"
   ]
  },
  {
   "cell_type": "code",
   "execution_count": null,
   "metadata": {},
   "outputs": [],
   "source": [
    "episodes[0]"
   ]
  },
  {
   "cell_type": "markdown",
   "metadata": {},
   "source": [
    "# Create link list"
   ]
  },
  {
   "cell_type": "code",
   "execution_count": null,
   "metadata": {},
   "outputs": [],
   "source": [
    "for episode in episodes:\n",
    "    episode_url = episode['domoClick']['clicked_item_url']\n",
    "    print(episode_url)"
   ]
  },
  {
   "cell_type": "code",
   "execution_count": null,
   "metadata": {},
   "outputs": [],
   "source": [
    "current_id = 1\n",
    "output = []"
   ]
  },
  {
   "cell_type": "markdown",
   "metadata": {},
   "source": [
    "# Create CSV description"
   ]
  },
  {
   "cell_type": "code",
   "execution_count": null,
   "metadata": {},
   "outputs": [],
   "source": [
    "# Prepare CSV file for writing\n",
    "with open('episodes.csv', mode='w', newline='', encoding='utf-8') as file:\n",
    "    writer = csv.DictWriter(file, fieldnames=['id', 'title', 'ep_number', 'date', 'thumbnail'])\n",
    "    \n",
    "    # Write the header (column names)\n",
    "    writer.writeheader()\n",
    "\n",
    "    current_id = 1\n",
    "    for item in episodes:\n",
    "        if item:  # Only process if item is not empty\n",
    "            title = item.get('title') or \"empty\"\n",
    "            if item.get('pics') == None:\n",
    "                 thumbnail = \"empty\"\n",
    "            else:\n",
    "                thumbnail = item.get('pics')[0].get('picUrl')\n",
    "            extra_info = item.get('extraInfo') or \"empty\"\n",
    "            ep_number, date = (\"empty\", \"empty\")  # Default values\n",
    "            if \"@\" in extra_info:\n",
    "                ep_number, date = extra_info.split(\"@\", 1)\n",
    "\n",
    "            # Prepare the new item dictionary\n",
    "            new_item = {\n",
    "                'id': current_id,\n",
    "                'title': title,\n",
    "                'ep_number': ep_number,\n",
    "                'date': date,\n",
    "                'thumbnail': thumbnail\n",
    "            }\n",
    "\n",
    "            # Write the new item to the CSV file\n",
    "            writer.writerow(new_item)\n",
    "            current_id += 1\n"
   ]
  },
  {
   "cell_type": "code",
   "execution_count": null,
   "metadata": {},
   "outputs": [],
   "source": []
  }
 ],
 "metadata": {
  "kernelspec": {
   "display_name": "Python 3",
   "language": "python",
   "name": "python3"
  },
  "language_info": {
   "codemirror_mode": {
    "name": "ipython",
    "version": 3
   },
   "file_extension": ".py",
   "mimetype": "text/x-python",
   "name": "python",
   "nbconvert_exporter": "python",
   "pygments_lexer": "ipython3",
   "version": "3.9.13"
  }
 },
 "nbformat": 4,
 "nbformat_minor": 0
}
